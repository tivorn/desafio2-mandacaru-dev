{
 "cells": [
  {
   "cell_type": "code",
   "metadata": {
    "tags": [],
    "cell_id": "89d277bf-cc61-4674-8510-7ec42416cd88",
    "deepnote_to_be_reexecuted": false,
    "source_hash": "3c58bf5",
    "execution_start": 1643931226398,
    "execution_millis": 26041,
    "deepnote_output_heights": [
     156
    ],
    "deepnote_cell_type": "code"
   },
   "source": "from DataPreparation import prepare_data, get_class_names\nfrom TextRepresentationModel import bag_of_words, glove, sentence2vec\nfrom Models import build_Conv1D, evolved_classifier, build_DNN, build_LSTM\nfrom Evaluation import plot_confusion_matrix, plot_roc_curve, plot_precision_recall_curve\n\nimport matplotlib.pyplot as plt\nimport numpy as np\nimport pandas as pd\nimport pickle\nfrom sklearn.metrics import accuracy_score, classification_report\nfrom sklearn.neighbors import NearestCentroid",
   "execution_count": 1,
   "outputs": []
  },
  {
   "cell_type": "code",
   "metadata": {
    "cell_id": "58d2f7ac-ee45-4d63-8457-8d048d9c2ea2",
    "tags": [],
    "deepnote_to_be_reexecuted": false,
    "source_hash": "7da345ce",
    "execution_start": 1643931252443,
    "execution_millis": 58,
    "deepnote_cell_type": "code"
   },
   "source": "docs_train, docs_val, labels_train, labels_val = prepare_data(\"/work/final_dataset.csv\", return_split=True)",
   "execution_count": 2,
   "outputs": []
  },
  {
   "cell_type": "markdown",
   "source": "## Modelos de aprendizado de máquina",
   "metadata": {
    "cell_id": "1cfddfad-27fd-4ec0-8388-45451e0ca7cc",
    "tags": [],
    "is_collapsed": false,
    "deepnote_cell_type": "text-cell-h2"
   }
  },
  {
   "cell_type": "code",
   "metadata": {
    "cell_id": "2e21b8b6-24fc-4dc6-88c8-452300397445",
    "tags": [],
    "deepnote_to_be_reexecuted": false,
    "source_hash": "6619afb7",
    "execution_start": 1643928899680,
    "execution_millis": 265222,
    "deepnote_cell_type": "code"
   },
   "source": "X_train, X_val = sentence2vec(docs_train, docs_val)",
   "outputs": [],
   "execution_count": null
  },
  {
   "cell_type": "code",
   "metadata": {
    "cell_id": "475f99c1-a1f4-4621-8e90-7c5fc0b55deb",
    "tags": [],
    "deepnote_to_be_reexecuted": false,
    "source_hash": "16ef88fb",
    "execution_start": 1643926184475,
    "execution_millis": 1,
    "deepnote_output_heights": [
     611
    ],
    "deepnote_cell_type": "code"
   },
   "source": "classes = get_class_names(labels_train)",
   "outputs": [],
   "execution_count": null
  },
  {
   "cell_type": "markdown",
   "source": "### Baseline - Nearest Centroid",
   "metadata": {
    "cell_id": "144ac997-cf27-4d5c-acf3-0fd89e95c794",
    "tags": [],
    "is_collapsed": false,
    "deepnote_cell_type": "text-cell-h3"
   }
  },
  {
   "cell_type": "code",
   "source": "NearestCentroid_model = NearestCentroid()\nNearestCentroid_model.fit(X_train, labels_train)\n\ny_pred_val = NearestCentroid_model.predict(X_val)\ny_pred_train = NearestCentroid_model.predict(X_train)\n\nacc_train = accuracy_score(labels_train, y_pred_train)\nacc_val = accuracy_score(labels_val, y_pred_val)\n\nprint(\"Acurácia no conjunto de treinamento: \", acc_train)\nprint(\"Acurácia no conjunto de validação: \", acc_val)",
   "metadata": {
    "cell_id": "07ab78cc-514f-463e-80fd-9a25fd78d59b",
    "tags": [],
    "deepnote_to_be_reexecuted": false,
    "source_hash": "49a24ff6",
    "execution_start": 1643929179540,
    "execution_millis": 16,
    "deepnote_cell_type": "code"
   },
   "outputs": [
    {
     "name": "stdout",
     "text": "Acurácia no conjunto de treinamento:  0.7422222222222222\nAcurácia no conjunto de validação:  0.736\n",
     "output_type": "stream"
    }
   ],
   "execution_count": null
  },
  {
   "cell_type": "markdown",
   "source": "### Regressão logística",
   "metadata": {
    "cell_id": "06e8013b-7ac6-4c56-9f87-ab236060978e",
    "tags": [],
    "is_collapsed": false,
    "deepnote_cell_type": "text-cell-h3"
   }
  },
  {
   "cell_type": "code",
   "metadata": {
    "cell_id": "7ec28da0-ec99-43ab-9b73-0b383dbfe781",
    "tags": [],
    "deepnote_to_be_reexecuted": false,
    "source_hash": "fc7a5517",
    "execution_start": 1643915035796,
    "execution_millis": 6007857,
    "deepnote_cell_type": "code"
   },
   "source": "LogisticRegression_model = evolved_classifier(\n    X_train, X_val, labels_val, labels_train,\n    \"LogisticRegression\"\n)",
   "execution_count": null,
   "outputs": [
    {
     "name": "stdout",
     "text": "gen\tnevals\tfitness\tfitness_std\tfitness_max\tfitness_min\n0  \t15    \t0.86163\t0.0089401  \t0.868889   \t0.835111   \n1  \t11    \t0.867526\t0.00208126 \t0.871111   \t0.862667   \n2  \t2     \t0.86883 \t0.00185653 \t0.871111   \t0.864444   \n3  \t7     \t0.869007\t0.00306835 \t0.873778   \t0.860444   \n4  \t9     \t0.868119\t0.00278014 \t0.871111   \t0.863111   \n5  \t7     \t0.868237\t0.00338038 \t0.871111   \t0.862222   \n6  \t10    \t0.868148\t0.0023443  \t0.871111   \t0.864889   \n7  \t4     \t0.869037\t0.00270426 \t0.871111   \t0.863111   \n8  \t10    \t0.867496\t0.00296089 \t0.871111   \t0.863111   \n9  \t6     \t0.868622\t0.00263087 \t0.871111   \t0.864      \n10 \t6     \t0.870015\t0.00194656 \t0.871556   \t0.865778   \n11 \t5     \t0.86883 \t0.00383312 \t0.871556   \t0.859556   \n12 \t14    \t0.865867\t0.00211099 \t0.871111   \t0.862222   \n13 \t3     \t0.866578\t0.00156673 \t0.871111   \t0.863556   \n14 \t11    \t0.866459\t0.00258067 \t0.871111   \t0.861333   \n15 \t7     \t0.867556\t0.00200082 \t0.871111   \t0.863556   \n16 \t6     \t0.86717 \t0.0027487  \t0.871111   \t0.861778   \n17 \t9     \t0.867911\t0.00290401 \t0.872889   \t0.862667   \n18 \t6     \t0.868533\t0.00322623 \t0.872889   \t0.862222   \n19 \t4     \t0.870311\t0.00282587 \t0.872889   \t0.864444   \n20 \t10    \t0.867941\t0.00393818 \t0.872889   \t0.858667   \n21 \t12    \t0.866489\t0.00332513 \t0.872889   \t0.861778   \n22 \t2     \t0.868948\t0.00362112 \t0.872889   \t0.864      \n23 \t6     \t0.869393\t0.00418775 \t0.872889   \t0.860889   \n24 \t4     \t0.870281\t0.003686   \t0.872889   \t0.862222   \n25 \t4     \t0.871022\t0.00261782 \t0.872889   \t0.864444   \n26 \t8     \t0.869067\t0.0036929  \t0.872889   \t0.863111   \n27 \t7     \t0.869067\t0.00423756 \t0.872889   \t0.861778   \n28 \t8     \t0.868533\t0.0040023  \t0.872889   \t0.86       \n29 \t8     \t0.861333\t0.0259681  \t0.872889   \t0.765778   \n30 \t8     \t0.868622\t0.00340341 \t0.872889   \t0.862667   \n",
     "output_type": "stream"
    }
   ]
  },
  {
   "cell_type": "code",
   "metadata": {
    "cell_id": "5c4c129d-45c4-4511-8d53-288d4da2c447",
    "tags": [],
    "deepnote_to_be_reexecuted": false,
    "source_hash": "b6256fd1",
    "execution_start": 1643921043658,
    "execution_millis": 10,
    "deepnote_cell_type": "code"
   },
   "source": "estimator = LogisticRegression_model.get_params()['estimator']",
   "execution_count": null,
   "outputs": []
  },
  {
   "cell_type": "code",
   "metadata": {
    "cell_id": "4722fd5b-f5be-4729-a926-23805918b0f6",
    "tags": [],
    "deepnote_to_be_reexecuted": false,
    "source_hash": "767f9526",
    "execution_start": 1643921043672,
    "execution_millis": 4128,
    "deepnote_cell_type": "code"
   },
   "source": "pickle.dump(estimator, open(\"LogisticRegression_model.pkl\", 'wb'))",
   "execution_count": null,
   "outputs": []
  },
  {
   "cell_type": "code",
   "source": "LogisticRegression_model = pickle.load(open('SVM_model.pkl', 'rb'))\nLogisticRegression_params = LogisticRegression_model.get_params()",
   "metadata": {
    "cell_id": "f126120a-7c2a-4170-b5d0-1565aff24dc0",
    "tags": [],
    "deepnote_to_be_reexecuted": false,
    "source_hash": "840c7356",
    "execution_start": 1643926184476,
    "execution_millis": 14435,
    "deepnote_cell_type": "code"
   },
   "outputs": [],
   "execution_count": null
  },
  {
   "cell_type": "code",
   "source": "y_pred_val = LogisticRegression_model.predict(X_val)\ny_pred_train = LogisticRegression_model.predict(X_train)\n\nacc_train = accuracy_score(labels_train, y_pred_train)\nacc_val = accuracy_score(labels_val, y_pred_val)\n\nprint(\"Acurácia no conjunto de treinamento: \", acc_train)\nprint(\"Acurácia no conjunto de validação: \", acc_val)\nprint(f\"Hiperâmetros otimizados => C: {round(LogisticRegression_params['C'], 3)}\")",
   "metadata": {
    "cell_id": "ea915681-6ca9-4fa1-93a6-839d74ea18ab",
    "tags": [],
    "deepnote_to_be_reexecuted": false,
    "source_hash": "a7248b5",
    "execution_start": 1643926198918,
    "execution_millis": 533,
    "deepnote_cell_type": "code"
   },
   "outputs": [
    {
     "name": "stdout",
     "text": "Acurácia no conjunto de treinamento:  0.9906666666666667\nAcurácia no conjunto de validação:  0.908\nHiperâmetros otimizados => C: 3.733\n",
     "output_type": "stream"
    }
   ],
   "execution_count": null
  },
  {
   "cell_type": "markdown",
   "source": "### Máquina de suporte vetorial (SVM)",
   "metadata": {
    "cell_id": "67f8a38e-ccf3-42f3-aed1-bbcfbb5a475c",
    "tags": [],
    "is_collapsed": false,
    "deepnote_cell_type": "text-cell-h3"
   }
  },
  {
   "cell_type": "code",
   "metadata": {
    "cell_id": "4e38f3f4-dc5c-4fce-bc1b-358d1bdfd928",
    "tags": [],
    "deepnote_to_be_reexecuted": true,
    "source_hash": "e6b89842",
    "execution_start": 1643854144558,
    "execution_millis": 4162421,
    "deepnote_cell_type": "code"
   },
   "source": "SVM_model = evolved_classifier(\n    X_train, X_val, labels_val, labels_train,\n    \"SVC\"\n)",
   "execution_count": null,
   "outputs": [
    {
     "name": "stdout",
     "text": "gen\tnevals\tfitness \tfitness_std\tfitness_max\tfitness_min\n0  \t15    \t0.860296\t0.0276965  \t0.879111   \t0.774667   \n1  \t10    \t0.857511\t0.0387222  \t0.882222   \t0.752444   \n2  \t12    \t0.870933\t0.0245607  \t0.897778   \t0.783111   \n3  \t6     \t0.872207\t0.0377172  \t0.897778   \t0.735111   \n4  \t7     \t0.885807\t0.00912208 \t0.897778   \t0.872      \n5  \t13    \t0.89197 \t0.00709158 \t0.899111   \t0.873333   \n6  \t10    \t0.895941\t0.00262619 \t0.899111   \t0.890222   \n7  \t10    \t0.884889\t0.0443706  \t0.9        \t0.719111   \n8  \t11    \t0.884593\t0.0447761  \t0.899556   \t0.717778   \n9  \t4     \t0.885037\t0.0481774  \t0.899556   \t0.704889   \n10 \t2     \t0.898637\t0.00126196 \t0.899556   \t0.894667   \n11 \t10    \t0.897304\t0.00168238 \t0.899556   \t0.893778   \n12 \t5     \t0.896119\t0.00524988 \t0.899556   \t0.878222   \n13 \t6     \t0.897867\t0.00182313 \t0.900889   \t0.894222   \n14 \t10    \t0.88477 \t0.0361977  \t0.900889   \t0.752444   \n15 \t10    \t0.897896\t0.00244763 \t0.902222   \t0.894222   \n16 \t6     \t0.899585\t0.00321915 \t0.902667   \t0.892444   \n17 \t7     \t0.898785\t0.0068728  \t0.902667   \t0.874222   \n18 \t9     \t0.89843 \t0.00732254 \t0.902667   \t0.875111   \n19 \t8     \t0.901185\t0.00218135 \t0.904      \t0.895111   \n20 \t10    \t0.901185\t0.0024271  \t0.904      \t0.895111   \n21 \t8     \t0.901274\t0.00212756 \t0.904      \t0.896889   \n22 \t9     \t0.90083 \t0.00184229 \t0.904      \t0.897333   \n23 \t6     \t0.9008  \t0.00687995 \t0.904444   \t0.875556   \n24 \t11    \t0.898815\t0.00619181 \t0.904      \t0.877333   \n25 \t11    \t0.899881\t0.0049769  \t0.904      \t0.883111   \n26 \t7     \t0.899941\t0.00634351 \t0.905333   \t0.877333   \n27 \t9     \t0.898133\t0.00951042 \t0.904      \t0.864      \n28 \t6     \t0.901067\t0.00195959 \t0.904      \t0.897778   \n29 \t10    \t0.90077 \t0.00256326 \t0.904      \t0.896      \n30 \t9     \t0.887348\t0.0473244  \t0.904      \t0.710667   \n",
     "output_type": "stream"
    }
   ]
  },
  {
   "cell_type": "code",
   "metadata": {
    "cell_id": "2d563df5-b5dd-43ea-87d1-81006626d0fa",
    "tags": [],
    "deepnote_to_be_reexecuted": true,
    "source_hash": "1361632",
    "execution_start": 1643859319170,
    "execution_millis": 3,
    "deepnote_output_heights": [
     21.1875
    ],
    "deepnote_cell_type": "code"
   },
   "source": "estimator = SVM_model.get_params()['estimator']",
   "execution_count": null,
   "outputs": []
  },
  {
   "cell_type": "code",
   "metadata": {
    "cell_id": "59633f37-ef0d-40ed-ab88-8318f8df0a82",
    "tags": [],
    "deepnote_to_be_reexecuted": true,
    "source_hash": "4e8a2074",
    "execution_start": 1643859335572,
    "execution_millis": 6,
    "deepnote_cell_type": "code"
   },
   "source": "with open(\"SVM_model.pkl\", 'wb') as model_file:\n    pickle.dump(estimator, model_file)",
   "execution_count": null,
   "outputs": []
  },
  {
   "cell_type": "code",
   "metadata": {
    "cell_id": "49b8570e-aea2-412a-8c08-0204e7b9b04d",
    "tags": [],
    "deepnote_to_be_reexecuted": true,
    "source_hash": "c277f26e",
    "execution_start": 1643906087190,
    "execution_millis": 20,
    "deepnote_cell_type": "code"
   },
   "source": "SVM_model = pickle.load(open('SVM_model.pkl', 'rb'))",
   "execution_count": null,
   "outputs": []
  },
  {
   "cell_type": "code",
   "metadata": {
    "cell_id": "afc5ddfe-4919-45f1-9926-0c8750351fdf",
    "tags": [],
    "deepnote_to_be_reexecuted": true,
    "source_hash": "f84efb37",
    "execution_start": 1643906108840,
    "execution_millis": 2,
    "deepnote_output_heights": [
     289.8125
    ],
    "deepnote_cell_type": "code"
   },
   "source": "SVM_params = SVM_model.get_params()",
   "execution_count": null,
   "outputs": []
  },
  {
   "cell_type": "code",
   "metadata": {
    "cell_id": "3aa76d45-75a3-4abc-b2ca-ae3c1d79d3b4",
    "tags": [],
    "deepnote_to_be_reexecuted": true,
    "source_hash": "fdac9535",
    "execution_start": 1643906110725,
    "execution_millis": 438,
    "deepnote_cell_type": "code"
   },
   "source": "y_pred_val = SVM_model.predict(X_val)\ny_pred_train = SVM_model.predict(X_train)\n\nacc_train = accuracy_score(labels_train, y_pred_train)\nacc_val = accuracy_score(labels_val, y_pred_val)\n\nprint(\"Acurácia no conjunto de treinamento: \", acc_train)\nprint(\"Acurácia no conjunto de validação: \", acc_val)\nprint(f\"Hiperâmetros otimizados => C: {round(SVM_params['C'], 3)}, gamma: {round(SVM_params['gamma'], 3)}, kernel: {SVM_params['kernel']}\")",
   "execution_count": null,
   "outputs": [
    {
     "name": "stdout",
     "text": "Acurácia no conjunto de treinamento:  0.9906666666666667\nAcurácia no conjunto de validação:  0.908\nHiperâmetros otimizados => C: 3.733, gamma: 1.022, kernel: rbf\n",
     "output_type": "stream"
    }
   ]
  },
  {
   "cell_type": "code",
   "metadata": {
    "cell_id": "a2af9731-6290-4fa5-81a1-8341bdc6820a",
    "tags": [],
    "deepnote_to_be_reexecuted": true,
    "source_hash": "b936e553",
    "execution_start": 1643906098632,
    "execution_millis": 125,
    "deepnote_cell_type": "code"
   },
   "source": "dummy_labels = pd.get_dummies(labels_val, drop_first=False).values\ny_prob = SVM_model.predict_proba(X_val)",
   "execution_count": null,
   "outputs": []
  },
  {
   "cell_type": "code",
   "metadata": {
    "cell_id": "6597e336-38bd-441c-9c9c-7c9a125d1919",
    "tags": [],
    "deepnote_to_be_reexecuted": true,
    "source_hash": "d66b8771",
    "execution_start": 1643906114858,
    "execution_millis": 316,
    "deepnote_output_heights": [
     280
    ],
    "deepnote_cell_type": "code"
   },
   "source": "plot_confusion_matrix(labels_val, y_pred_val, classes)",
   "execution_count": null,
   "outputs": [
    {
     "data": {
      "text/plain": "<Figure size 432x288 with 1 Axes>",
      "image/png": "[encoded data removed]"
     },
     "metadata": {
      "needs_background": "light",
      "image/png": {
       "width": 413,
       "height": 278
      }
     },
     "output_type": "display_data"
    }
   ]
  },
  {
   "cell_type": "code",
   "metadata": {
    "cell_id": "59e12171-db56-4630-9ee4-1fd10ae1053e",
    "tags": [],
    "deepnote_to_be_reexecuted": true,
    "source_hash": "8beef12a",
    "execution_start": 1643906923971,
    "execution_millis": 9,
    "deepnote_output_heights": [
     21.1875
    ],
    "deepnote_cell_type": "code"
   },
   "source": "print(classification_report(y_true=labels_val, y_pred=y_pred_val, target_names=classes))",
   "execution_count": null,
   "outputs": [
    {
     "name": "stdout",
     "text": "              precision    recall  f1-score   support\n\n       FRAUD       0.92      0.98      0.95       251\n      NORMAL       0.96      0.84      0.89       249\n        SPAM       0.85      0.91      0.88       250\n\n    accuracy                           0.91       750\n   macro avg       0.91      0.91      0.91       750\nweighted avg       0.91      0.91      0.91       750\n\n",
     "output_type": "stream"
    }
   ]
  },
  {
   "cell_type": "code",
   "metadata": {
    "cell_id": "9abc218a-7894-4de3-be55-7a995b025a9e",
    "tags": [],
    "deepnote_to_be_reexecuted": true,
    "source_hash": "d1ec98c2",
    "execution_start": 1643906132062,
    "execution_millis": 223,
    "deepnote_output_heights": [
     280
    ],
    "deepnote_cell_type": "code"
   },
   "source": "plot_roc_curve(dummy_labels, y_prob, classes)",
   "execution_count": null,
   "outputs": [
    {
     "data": {
      "text/plain": "<Figure size 432x288 with 1 Axes>",
      "image/png": "[encoded data removed]"
     },
     "metadata": {
      "needs_background": "light",
      "image/png": {
       "width": 394,
       "height": 278
      }
     },
     "output_type": "display_data"
    }
   ]
  },
  {
   "cell_type": "code",
   "metadata": {
    "cell_id": "afd9816f-9aff-450b-9622-6ce50211eda5",
    "tags": [],
    "deepnote_to_be_reexecuted": true,
    "source_hash": "38442efd",
    "execution_start": 1643906146653,
    "execution_millis": 480,
    "deepnote_output_heights": [
     280
    ],
    "deepnote_cell_type": "code"
   },
   "source": "plot_precision_recall_curve(dummy_labels, y_prob, classes)",
   "execution_count": null,
   "outputs": [
    {
     "data": {
      "text/plain": "<Figure size 432x288 with 1 Axes>",
      "image/png": "[encoded data removed]"
     },
     "metadata": {
      "needs_background": "light",
      "image/png": {
       "width": 394,
       "height": 278
      }
     },
     "output_type": "display_data"
    }
   ]
  },
  {
   "cell_type": "markdown",
   "source": "## Modelos de aprendizado profundo",
   "metadata": {
    "cell_id": "415c6316-f1b1-44ed-ade5-8ddca9ed609d",
    "tags": [],
    "is_collapsed": false,
    "deepnote_cell_type": "text-cell-h2"
   }
  },
  {
   "cell_type": "code",
   "source": "vocab_size = 1000\nmaxlen = 1000",
   "metadata": {
    "cell_id": "f5172cda-fd6b-4f84-aa98-9335077cbd4a",
    "tags": [],
    "deepnote_to_be_reexecuted": false,
    "source_hash": "9bd0dd5a",
    "execution_start": 1643931252542,
    "execution_millis": 1,
    "deepnote_cell_type": "code"
   },
   "outputs": [],
   "execution_count": 3
  },
  {
   "cell_type": "code",
   "metadata": {
    "cell_id": "93940ebd-4fd4-4ad6-914f-d1c0b002bb23",
    "tags": [],
    "deepnote_to_be_reexecuted": false,
    "source_hash": "47decb6b",
    "execution_start": 1643931252589,
    "execution_millis": 10523,
    "deepnote_output_heights": [
     117.125
    ],
    "deepnote_cell_type": "code"
   },
   "source": "embedding_matrix = glove(docs_train, docs_val, vocab_size, maxlen, return_weights=True)",
   "execution_count": 4,
   "outputs": []
  },
  {
   "cell_type": "code",
   "metadata": {
    "cell_id": "17831579-1347-42cb-99b2-7b49a86c4099",
    "tags": [],
    "deepnote_to_be_reexecuted": false,
    "source_hash": "a1ff9ad0",
    "execution_start": 1643931263199,
    "execution_millis": 10486,
    "deepnote_cell_type": "code"
   },
   "source": "X_train, X_val = glove(docs_train, docs_val, vocab_size, maxlen, return_weights=False)",
   "execution_count": 5,
   "outputs": []
  },
  {
   "cell_type": "markdown",
   "source": "### Rede Neural Profunda",
   "metadata": {
    "cell_id": "2982fd09-dc3b-4030-bc7d-d2db34a9dc8b",
    "tags": [],
    "is_collapsed": false,
    "deepnote_cell_type": "text-cell-h3"
   }
  },
  {
   "cell_type": "code",
   "source": "hidden_dims = 48\ndropout_rate = 0.4\nepochs=10\nbatch_size=32",
   "metadata": {
    "cell_id": "1f5f5cff-8384-49b8-80f3-4d9653426e0b",
    "tags": [],
    "deepnote_to_be_reexecuted": false,
    "source_hash": "e05ef421",
    "execution_start": 1643929901307,
    "execution_millis": 3,
    "deepnote_cell_type": "code"
   },
   "outputs": [],
   "execution_count": null
  },
  {
   "cell_type": "code",
   "source": "DNN_model = build_DNN(\n    vocab_size,\n    maxlen,\n    embedding_matrix,\n    hidden_dims,\n    dropout_rate\n)",
   "metadata": {
    "cell_id": "33309c0a-4cd1-4cc0-b23e-d48b7a9809ef",
    "tags": [],
    "deepnote_to_be_reexecuted": false,
    "source_hash": "76792d05",
    "execution_start": 1643929907026,
    "execution_millis": 72,
    "deepnote_cell_type": "code"
   },
   "outputs": [],
   "execution_count": null
  },
  {
   "cell_type": "code",
   "source": "DNN_model.summary()",
   "metadata": {
    "cell_id": "b4d39f1e-9ae5-4e68-8e71-a22ed1c7f99c",
    "tags": [],
    "deepnote_to_be_reexecuted": false,
    "source_hash": "24714b8c",
    "execution_start": 1643929909246,
    "execution_millis": 129,
    "deepnote_cell_type": "code"
   },
   "outputs": [
    {
     "name": "stdout",
     "text": "Model: \"sequential_1\"\n_________________________________________________________________\nLayer (type)                 Output Shape              Param #   \n=================================================================\nembedding_1 (Embedding)      (None, 1000, 100)         100000    \n_________________________________________________________________\ndropout_3 (Dropout)          (None, 1000, 100)         0         \n_________________________________________________________________\ndense_3 (Dense)              (None, 1000, 48)          4848      \n_________________________________________________________________\ndropout_4 (Dropout)          (None, 1000, 48)          0         \n_________________________________________________________________\nflatten_1 (Flatten)          (None, 48000)             0         \n_________________________________________________________________\ndense_4 (Dense)              (None, 48)                2304048   \n_________________________________________________________________\ndropout_5 (Dropout)          (None, 48)                0         \n_________________________________________________________________\ndense_5 (Dense)              (None, 3)                 147       \n=================================================================\nTotal params: 2,409,043\nTrainable params: 2,309,043\nNon-trainable params: 100,000\n_________________________________________________________________\n",
     "output_type": "stream"
    }
   ],
   "execution_count": null
  },
  {
   "cell_type": "code",
   "source": "DNN_model.compile(\n    loss=\"sparse_categorical_crossentropy\",\n    optimizer=\"rmsprop\",\n    metrics=[\"accuracy\"]\n)",
   "metadata": {
    "cell_id": "dfb99abb-bdf6-4bdc-8f8e-f10540b8f3f0",
    "tags": [],
    "deepnote_to_be_reexecuted": false,
    "source_hash": "e6668454",
    "execution_start": 1643929913410,
    "execution_millis": 4,
    "deepnote_cell_type": "code"
   },
   "outputs": [],
   "execution_count": null
  },
  {
   "cell_type": "code",
   "source": "history = DNN_model.fit(\n    X_train,\n    labels_train, \n    batch_size=batch_size,\n    epochs=epochs,\n    validation_data=(X_val, labels_val)\n)",
   "metadata": {
    "cell_id": "7e50b5fc-a152-4f20-a72b-1c448e44f48b",
    "tags": [],
    "deepnote_to_be_reexecuted": false,
    "source_hash": "e3964856",
    "execution_start": 1643929918697,
    "execution_millis": 251877,
    "deepnote_cell_type": "code"
   },
   "outputs": [
    {
     "name": "stdout",
     "text": "Epoch 1/30\n71/71 [==============================] - 8s 106ms/step - loss: 0.4785 - accuracy: 0.8342 - val_loss: 0.1275 - val_accuracy: 0.9760\nEpoch 2/30\n71/71 [==============================] - 8s 108ms/step - loss: 0.1387 - accuracy: 0.9700 - val_loss: 0.1156 - val_accuracy: 0.9747\nEpoch 3/30\n71/71 [==============================] - 7s 106ms/step - loss: 0.0930 - accuracy: 0.9762 - val_loss: 0.1106 - val_accuracy: 0.9733\nEpoch 4/30\n71/71 [==============================] - 10s 148ms/step - loss: 0.0804 - accuracy: 0.9845 - val_loss: 0.1235 - val_accuracy: 0.9733\nEpoch 5/30\n71/71 [==============================] - 7s 105ms/step - loss: 0.0508 - accuracy: 0.9907 - val_loss: 0.1223 - val_accuracy: 0.9720\nEpoch 6/30\n71/71 [==============================] - 8s 120ms/step - loss: 0.0433 - accuracy: 0.9935 - val_loss: 0.1431 - val_accuracy: 0.9680\nEpoch 7/30\n71/71 [==============================] - 7s 105ms/step - loss: 0.0372 - accuracy: 0.9913 - val_loss: 0.1628 - val_accuracy: 0.9693\nEpoch 8/30\n71/71 [==============================] - 11s 156ms/step - loss: 0.0285 - accuracy: 0.9918 - val_loss: 0.1870 - val_accuracy: 0.9707\nEpoch 9/30\n71/71 [==============================] - 8s 109ms/step - loss: 0.0229 - accuracy: 0.9928 - val_loss: 0.2484 - val_accuracy: 0.9693\nEpoch 10/30\n71/71 [==============================] - 8s 114ms/step - loss: 0.0298 - accuracy: 0.9923 - val_loss: 0.2343 - val_accuracy: 0.9707\nEpoch 11/30\n71/71 [==============================] - 8s 106ms/step - loss: 0.0186 - accuracy: 0.9948 - val_loss: 0.2650 - val_accuracy: 0.9693\nEpoch 12/30\n71/71 [==============================] - 10s 147ms/step - loss: 0.0408 - accuracy: 0.9912 - val_loss: 0.2376 - val_accuracy: 0.9667\nEpoch 13/30\n71/71 [==============================] - 8s 108ms/step - loss: 0.0176 - accuracy: 0.9974 - val_loss: 0.2829 - val_accuracy: 0.9707\nEpoch 14/30\n71/71 [==============================] - 8s 107ms/step - loss: 0.0172 - accuracy: 0.9956 - val_loss: 0.2864 - val_accuracy: 0.9720\nEpoch 15/30\n71/71 [==============================] - 8s 111ms/step - loss: 0.0136 - accuracy: 0.9969 - val_loss: 0.2597 - val_accuracy: 0.9707\nEpoch 16/30\n71/71 [==============================] - 11s 159ms/step - loss: 0.0116 - accuracy: 0.9976 - val_loss: 0.2907 - val_accuracy: 0.9693\nEpoch 17/30\n71/71 [==============================] - 8s 107ms/step - loss: 0.0079 - accuracy: 0.9982 - val_loss: 0.3550 - val_accuracy: 0.9693\nEpoch 18/30\n71/71 [==============================] - 8s 107ms/step - loss: 0.0205 - accuracy: 0.9964 - val_loss: 0.2805 - val_accuracy: 0.9720\nEpoch 19/30\n71/71 [==============================] - 8s 114ms/step - loss: 0.0178 - accuracy: 0.9959 - val_loss: 0.2761 - val_accuracy: 0.9693\nEpoch 20/30\n71/71 [==============================] - 7s 104ms/step - loss: 0.0116 - accuracy: 0.9949 - val_loss: 0.2789 - val_accuracy: 0.9667\nEpoch 21/30\n71/71 [==============================] - 8s 115ms/step - loss: 0.0113 - accuracy: 0.9976 - val_loss: 0.3603 - val_accuracy: 0.9707\nEpoch 22/30\n71/71 [==============================] - 8s 107ms/step - loss: 0.0330 - accuracy: 0.9940 - val_loss: 0.3677 - val_accuracy: 0.9707\nEpoch 23/30\n71/71 [==============================] - 8s 106ms/step - loss: 0.0188 - accuracy: 0.9972 - val_loss: 0.3352 - val_accuracy: 0.9707\nEpoch 24/30\n71/71 [==============================] - 7s 105ms/step - loss: 0.0074 - accuracy: 0.9979 - val_loss: 0.3713 - val_accuracy: 0.9733\nEpoch 25/30\n71/71 [==============================] - 10s 139ms/step - loss: 0.0056 - accuracy: 0.9979 - val_loss: 0.3571 - val_accuracy: 0.9693\nEpoch 26/30\n71/71 [==============================] - 8s 109ms/step - loss: 0.0102 - accuracy: 0.9956 - val_loss: 0.3558 - val_accuracy: 0.9680\nEpoch 27/30\n71/71 [==============================] - 8s 110ms/step - loss: 0.0086 - accuracy: 0.9965 - val_loss: 0.3717 - val_accuracy: 0.9667\nEpoch 28/30\n71/71 [==============================] - 14s 201ms/step - loss: 0.0100 - accuracy: 0.9971 - val_loss: 0.3665 - val_accuracy: 0.9720\nEpoch 29/30\n71/71 [==============================] - 7s 105ms/step - loss: 0.0186 - accuracy: 0.9967 - val_loss: 0.3428 - val_accuracy: 0.9720\nEpoch 30/30\n71/71 [==============================] - 8s 107ms/step - loss: 0.0047 - accuracy: 0.9986 - val_loss: 0.3780 - val_accuracy: 0.9667\n",
     "output_type": "stream"
    }
   ],
   "execution_count": null
  },
  {
   "cell_type": "code",
   "source": "DNN_model.save(\"DNN_model.h5\")",
   "metadata": {
    "cell_id": "c05ce98c-9c13-4307-8396-274c863a526a",
    "tags": [],
    "deepnote_to_be_reexecuted": false,
    "source_hash": "1e463709",
    "execution_start": 1643929864775,
    "execution_millis": 50,
    "deepnote_cell_type": "code"
   },
   "outputs": [],
   "execution_count": null
  },
  {
   "cell_type": "code",
   "source": "plt.plot(history.history['loss'], label='Custo - Treinamento')\nplt.plot(history.history['val_loss'], label='Custo - Validação')\nplt.plot(history.history['accuracy'], label='Acurácia - Treinamento')\nplt.plot(history.history['val_accuracy'], label='Acurácia - Validação')\nplt.legend()\nplt.show()",
   "metadata": {
    "cell_id": "d89f2bd1-9143-4885-ad97-207279a6ca6e",
    "tags": [],
    "deepnote_to_be_reexecuted": false,
    "source_hash": "359fc0ab",
    "execution_start": 1643930170580,
    "execution_millis": 309,
    "deepnote_output_heights": [
     250
    ],
    "deepnote_cell_type": "code"
   },
   "outputs": [
    {
     "data": {
      "text/plain": "<Figure size 432x288 with 1 Axes>",
      "image/png": "[encoded data removed]"
     },
     "metadata": {
      "needs_background": "light",
      "image/png": {
       "width": 373,
       "height": 248
      }
     },
     "output_type": "display_data"
    }
   ],
   "execution_count": null
  },
  {
   "cell_type": "markdown",
   "source": "### Rede Neural Convolucional 1D",
   "metadata": {
    "cell_id": "2a2ab2bc-67ef-4acb-bdcf-6c73ce5594fb",
    "tags": [],
    "is_collapsed": false,
    "deepnote_cell_type": "text-cell-h3"
   }
  },
  {
   "cell_type": "code",
   "metadata": {
    "cell_id": "12ea8e79-e564-4217-a79c-4b308effa9dc",
    "tags": [],
    "deepnote_to_be_reexecuted": true,
    "source_hash": "dd9a028f",
    "execution_start": 1643906165108,
    "execution_millis": 4,
    "deepnote_cell_type": "code"
   },
   "source": "batch_size = 32\nfilters = 100\nkernel_size = 3\nhidden_dims = 48\nepochs = 10",
   "execution_count": null,
   "outputs": []
  },
  {
   "cell_type": "code",
   "metadata": {
    "cell_id": "ef2dc181-5065-464a-9283-650479c15eeb",
    "tags": [],
    "deepnote_to_be_reexecuted": true,
    "source_hash": "3f8931a5",
    "execution_start": 1643906236629,
    "execution_millis": 141,
    "deepnote_output_heights": [
     309
    ],
    "deepnote_cell_type": "code"
   },
   "source": "Conv1D_model = build_Conv1D(\n    vocab_size,\n    maxlen,\n    embedding_matrix,\n    filters,\n    kernel_size,\n    hidden_dims\n)",
   "execution_count": null,
   "outputs": []
  },
  {
   "cell_type": "code",
   "metadata": {
    "cell_id": "da98c370-4d7f-4edc-a8f8-f2a96c2de17a",
    "tags": [],
    "deepnote_to_be_reexecuted": true,
    "source_hash": "33709c90",
    "execution_start": 1643906239529,
    "execution_millis": 8,
    "deepnote_cell_type": "code"
   },
   "source": "Conv1D_model.summary()",
   "execution_count": null,
   "outputs": [
    {
     "name": "stdout",
     "text": "Model: \"sequential\"\n_________________________________________________________________\nLayer (type)                 Output Shape              Param #   \n=================================================================\nembedding (Embedding)        (None, 1000, 100)         100000    \n_________________________________________________________________\ndropout (Dropout)            (None, 1000, 100)         0         \n_________________________________________________________________\nconv1d (Conv1D)              (None, 998, 100)          30100     \n_________________________________________________________________\nmax_pooling1d (MaxPooling1D) (None, 499, 100)          0         \n_________________________________________________________________\nconv1d_1 (Conv1D)            (None, 497, 100)          30100     \n_________________________________________________________________\nmax_pooling1d_1 (MaxPooling1 (None, 248, 100)          0         \n_________________________________________________________________\nconv1d_2 (Conv1D)            (None, 246, 100)          30100     \n_________________________________________________________________\nglobal_max_pooling1d (Global (None, 100)               0         \n_________________________________________________________________\ndense (Dense)                (None, 48)                4848      \n_________________________________________________________________\ndropout_1 (Dropout)          (None, 48)                0         \n_________________________________________________________________\ndense_1 (Dense)              (None, 3)                 147       \n=================================================================\nTotal params: 195,295\nTrainable params: 95,295\nNon-trainable params: 100,000\n_________________________________________________________________\n",
     "output_type": "stream"
    }
   ]
  },
  {
   "cell_type": "code",
   "metadata": {
    "cell_id": "a7fd43be-cd18-4726-ad3b-29c522ccedbf",
    "tags": [],
    "deepnote_to_be_reexecuted": true,
    "source_hash": "a44b0e8b",
    "execution_start": 1643906243300,
    "execution_millis": 9,
    "deepnote_cell_type": "code"
   },
   "source": "Conv1D_model.compile(\n    loss=\"sparse_categorical_crossentropy\",\n    optimizer=\"rmsprop\",\n    metrics=[\"accuracy\"]\n)",
   "execution_count": null,
   "outputs": []
  },
  {
   "cell_type": "code",
   "metadata": {
    "cell_id": "a197f539-9b6d-4a50-b6d6-4945f4683f10",
    "tags": [],
    "deepnote_to_be_reexecuted": true,
    "source_hash": "910fe62a",
    "execution_start": 1643906245982,
    "execution_millis": 288218,
    "deepnote_cell_type": "code"
   },
   "source": "history = Conv1D_model.fit(\n    X_train,\n    labels_train, \n    batch_size=batch_size,\n    epochs=epochs,\n    validation_data=(X_val, labels_val)\n)",
   "execution_count": null,
   "outputs": [
    {
     "name": "stdout",
     "text": "Epoch 1/10\n71/71 [==============================] - 45s 634ms/step - loss: 1.1132 - accuracy: 0.4063 - val_loss: 0.9246 - val_accuracy: 0.5480\nEpoch 2/10\n71/71 [==============================] - 18s 250ms/step - loss: 0.8772 - accuracy: 0.5693 - val_loss: 0.9233 - val_accuracy: 0.4427\nEpoch 3/10\n71/71 [==============================] - 18s 251ms/step - loss: 0.8248 - accuracy: 0.5895 - val_loss: 0.8525 - val_accuracy: 0.6547\nEpoch 4/10\n71/71 [==============================] - 21s 293ms/step - loss: 0.7878 - accuracy: 0.6216 - val_loss: 0.7739 - val_accuracy: 0.6693\nEpoch 5/10\n71/71 [==============================] - 38s 543ms/step - loss: 0.7401 - accuracy: 0.6612 - val_loss: 0.7161 - val_accuracy: 0.6907\nEpoch 6/10\n71/71 [==============================] - 77s 1s/step - loss: 0.7635 - accuracy: 0.6495 - val_loss: 0.7072 - val_accuracy: 0.6800\nEpoch 7/10\n71/71 [==============================] - 18s 255ms/step - loss: 0.7542 - accuracy: 0.6746 - val_loss: 0.6503 - val_accuracy: 0.7107\nEpoch 8/10\n71/71 [==============================] - 18s 254ms/step - loss: 0.7458 - accuracy: 0.6624 - val_loss: 0.6634 - val_accuracy: 0.7307\nEpoch 9/10\n71/71 [==============================] - 18s 250ms/step - loss: 0.7112 - accuracy: 0.6869 - val_loss: 0.6186 - val_accuracy: 0.7587\nEpoch 10/10\n71/71 [==============================] - 18s 250ms/step - loss: 0.7065 - accuracy: 0.7264 - val_loss: 0.6580 - val_accuracy: 0.7507\n",
     "output_type": "stream"
    }
   ]
  },
  {
   "cell_type": "code",
   "metadata": {
    "cell_id": "9b065157-8842-40e8-abf6-3b63d88d94ca",
    "tags": [],
    "deepnote_to_be_reexecuted": true,
    "source_hash": "b8765770",
    "execution_start": 1643906690415,
    "execution_millis": 30,
    "deepnote_cell_type": "code"
   },
   "source": "Conv1D_model.save(\"Conv1D_model.h5\")",
   "execution_count": null,
   "outputs": []
  },
  {
   "cell_type": "code",
   "metadata": {
    "cell_id": "30bb5e1e-12dc-4383-83cd-62b1d92e0e10",
    "tags": [],
    "deepnote_to_be_reexecuted": true,
    "source_hash": "359fc0ab",
    "execution_start": 1643906534192,
    "execution_millis": 432,
    "deepnote_output_heights": [
     250
    ],
    "deepnote_cell_type": "code"
   },
   "source": "plt.plot(history.history['loss'], label='Custo - Treinamento')\nplt.plot(history.history['val_loss'], label='Custo - Validação')\nplt.plot(history.history['accuracy'], label='Acurácia - Treinamento')\nplt.plot(history.history['val_accuracy'], label='Acurácia - Validação')\nplt.legend()\nplt.show()",
   "execution_count": null,
   "outputs": [
    {
     "data": {
      "text/plain": "<Figure size 432x288 with 1 Axes>",
      "image/png": "[encoded data removed]"
     },
     "metadata": {
      "needs_background": "light",
      "image/png": {
       "width": 372,
       "height": 248
      }
     },
     "output_type": "display_data"
    }
   ]
  },
  {
   "cell_type": "markdown",
   "source": "### LSTM",
   "metadata": {
    "cell_id": "df64249b-e522-4226-9b19-45fc109ff855",
    "tags": [],
    "is_collapsed": false,
    "deepnote_cell_type": "text-cell-h3"
   }
  },
  {
   "cell_type": "code",
   "source": "hidden_dims = 48\nepochs = 10\nbatch_size = 32",
   "metadata": {
    "cell_id": "8165843b-b0c3-4ac6-b878-8effd5df19b6",
    "tags": [],
    "deepnote_to_be_reexecuted": false,
    "source_hash": "9e7e42a3",
    "execution_start": 1643931273687,
    "execution_millis": 2,
    "deepnote_cell_type": "code"
   },
   "outputs": [],
   "execution_count": 6
  },
  {
   "cell_type": "code",
   "source": "LSTM_model = build_LSTM(\n    vocab_size,\n    maxlen,\n    embedding_matrix,\n    hidden_dims\n)",
   "metadata": {
    "cell_id": "25d8446d-0238-44fb-b8ed-72228c9e1a74",
    "tags": [],
    "deepnote_to_be_reexecuted": false,
    "source_hash": "e886927a",
    "execution_start": 1643931273691,
    "execution_millis": 96,
    "deepnote_cell_type": "code"
   },
   "outputs": [],
   "execution_count": 7
  },
  {
   "cell_type": "code",
   "source": "LSTM_model.summary()",
   "metadata": {
    "cell_id": "62dc0dce-4923-4ced-a64b-70052c7a61de",
    "tags": [],
    "deepnote_to_be_reexecuted": false,
    "source_hash": "8f3a1ba0",
    "execution_start": 1643931273793,
    "execution_millis": 4,
    "deepnote_cell_type": "code"
   },
   "outputs": [
    {
     "name": "stdout",
     "text": "Model: \"sequential\"\n_________________________________________________________________\nLayer (type)                 Output Shape              Param #   \n=================================================================\nembedding (Embedding)        (None, 1000, 100)         100000    \n_________________________________________________________________\nlstm (LSTM)                  (None, 48)                28608     \n_________________________________________________________________\ndense (Dense)                (None, 3)                 147       \n=================================================================\nTotal params: 128,755\nTrainable params: 28,755\nNon-trainable params: 100,000\n_________________________________________________________________\n",
     "output_type": "stream"
    }
   ],
   "execution_count": 8
  },
  {
   "cell_type": "code",
   "source": "LSTM_model.compile(\n    loss=\"sparse_categorical_crossentropy\",\n    optimizer=\"rmsprop\",\n    metrics=[\"accuracy\"]\n)",
   "metadata": {
    "cell_id": "b7dd7d20-55ce-4cf8-9249-a4d2bcde9231",
    "tags": [],
    "deepnote_to_be_reexecuted": false,
    "source_hash": "19fe2c80",
    "execution_start": 1643931273806,
    "execution_millis": 3,
    "deepnote_cell_type": "code"
   },
   "outputs": [],
   "execution_count": 9
  },
  {
   "cell_type": "code",
   "source": "history = LSTM_model.fit(\n    X_train,\n    labels_train, \n    batch_size=batch_size,\n    epochs=epochs,\n    validation_data=(X_val, labels_val)\n)",
   "metadata": {
    "cell_id": "92b8b489-32c4-40aa-82d9-dec9221c5779",
    "tags": [],
    "deepnote_to_be_reexecuted": false,
    "source_hash": "4631cd41",
    "execution_start": 1643931273854,
    "execution_millis": 475665,
    "deepnote_output_heights": [
     79
    ],
    "deepnote_cell_type": "code"
   },
   "outputs": [
    {
     "name": "stdout",
     "text": "Epoch 1/10\n71/71 [==============================] - 63s 879ms/step - loss: nan - accuracy: 0.3241 - val_loss: nan - val_accuracy: 0.3347\nEpoch 2/10\n71/71 [==============================] - 45s 641ms/step - loss: nan - accuracy: 0.3497 - val_loss: nan - val_accuracy: 0.3347\nEpoch 3/10\n71/71 [==============================] - 44s 622ms/step - loss: nan - accuracy: 0.3202 - val_loss: nan - val_accuracy: 0.3347\nEpoch 4/10\n71/71 [==============================] - 45s 628ms/step - loss: nan - accuracy: 0.3387 - val_loss: nan - val_accuracy: 0.3347\nEpoch 5/10\n71/71 [==============================] - 44s 622ms/step - loss: nan - accuracy: 0.3310 - val_loss: nan - val_accuracy: 0.3347\nEpoch 6/10\n71/71 [==============================] - 50s 703ms/step - loss: nan - accuracy: 0.3383 - val_loss: nan - val_accuracy: 0.3347\nEpoch 7/10\n71/71 [==============================] - 44s 620ms/step - loss: nan - accuracy: 0.3230 - val_loss: nan - val_accuracy: 0.3347\nEpoch 8/10\n71/71 [==============================] - 47s 668ms/step - loss: nan - accuracy: 0.3362 - val_loss: nan - val_accuracy: 0.3347\nEpoch 9/10\n71/71 [==============================] - 44s 616ms/step - loss: nan - accuracy: 0.3258 - val_loss: nan - val_accuracy: 0.3347\nEpoch 10/10\n71/71 [==============================] - 49s 693ms/step - loss: nan - accuracy: 0.3176 - val_loss: nan - val_accuracy: 0.3347\n",
     "output_type": "stream"
    }
   ],
   "execution_count": 10
  },
  {
   "cell_type": "code",
   "source": "LSTM_model.save(\"LSTM_model.h5\")",
   "metadata": {
    "cell_id": "3de98f37-2891-4ad5-b609-085de6853398",
    "tags": [],
    "deepnote_to_be_reexecuted": false,
    "source_hash": "cf8ed66e",
    "execution_start": 1643930732100,
    "execution_millis": 13,
    "deepnote_cell_type": "code"
   },
   "outputs": [],
   "execution_count": null
  },
  {
   "cell_type": "code",
   "source": "plt.plot(history.history['loss'], label='Custo - Treinamento')\nplt.plot(history.history['val_loss'], label='Custo - Validação')\nplt.plot(history.history['accuracy'], label='Acurácia - Treinamento')\nplt.plot(history.history['val_accuracy'], label='Acurácia - Validação')\nplt.legend()\nplt.show()",
   "metadata": {
    "cell_id": "dda6f3a5-8762-4b3c-9a4f-fccf2c062993",
    "tags": [],
    "deepnote_to_be_reexecuted": false,
    "source_hash": "359fc0ab",
    "execution_start": 1643931749519,
    "execution_millis": 264,
    "deepnote_output_heights": [
     250
    ],
    "deepnote_cell_type": "code"
   },
   "outputs": [
    {
     "data": {
      "text/plain": "<Figure size 432x288 with 1 Axes>",
      "image/png": "[encoded data removed]"
     },
     "metadata": {
      "needs_background": "light",
      "image/png": {
       "width": 390,
       "height": 248
      }
     },
     "output_type": "display_data"
    }
   ],
   "execution_count": 11
  },
  {
   "cell_type": "markdown",
   "source": "<a style='text-decoration:none;line-height:16px;display:flex;color:#5B5B62;padding:10px;justify-content:end;' href='https://deepnote.com?utm_source=created-in-deepnote-cell&projectId=2eea57f0-66ce-43d0-a55e-57750385c9ea' target=\"_blank\">\n<img alt='Created in deepnote.com' style='display:inline;max-height:16px;margin:0px;margin-right:7.5px;' src='data:image/svg+xml;base64,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' > </img>\nCreated in <span style='font-weight:600;margin-left:4px;'>Deepnote</span></a>",
   "metadata": {
    "tags": [],
    "created_in_deepnote_cell": true,
    "deepnote_cell_type": "markdown"
   }
  }
 ],
 "nbformat": 4,
 "nbformat_minor": 2,
 "metadata": {
  "orig_nbformat": 2,
  "deepnote": {
   "is_reactive": false
  },
  "deepnote_notebook_id": "58e4e6c8-0716-45db-a549-186c006537a2",
  "deepnote_execution_queue": []
 }
}